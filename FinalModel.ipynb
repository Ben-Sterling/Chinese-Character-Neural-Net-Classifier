{
 "cells": [
  {
   "cell_type": "code",
   "execution_count": 39,
   "id": "15b0bf61",
   "metadata": {},
   "outputs": [],
   "source": [
    "#import libraries\n",
    "import keras\n",
    "from keras.datasets import mnist\n",
    "from keras.models import Sequential\n",
    "from keras.layers import Dense\n",
    "from keras.layers import Dropout\n",
    "from keras.layers import Flatten\n",
    "from keras.layers.convolutional import Convolution2D\n",
    "from keras.layers.convolutional import MaxPooling2D\n",
    "from tensorflow.keras.utils import to_categorical\n",
    "from PIL import Image\n",
    "from keras import backend as K\n",
    "import numpy as np\n",
    "import pandas as pd\n",
    "import zipfile\n",
    "import sklearn\n",
    "import glob\n",
    "import random\n",
    "import matplotlib.pyplot as plt\n",
    "import os\n",
    "\n",
    "np.random.seed(2)"
   ]
  },
  {
   "cell_type": "code",
   "execution_count": 2,
   "id": "8edb220b",
   "metadata": {},
   "outputs": [
    {
     "data": {
      "text/html": [
       "<div>\n",
       "<style scoped>\n",
       "    .dataframe tbody tr th:only-of-type {\n",
       "        vertical-align: middle;\n",
       "    }\n",
       "\n",
       "    .dataframe tbody tr th {\n",
       "        vertical-align: top;\n",
       "    }\n",
       "\n",
       "    .dataframe thead th {\n",
       "        text-align: right;\n",
       "    }\n",
       "</style>\n",
       "<table border=\"1\" class=\"dataframe\">\n",
       "  <thead>\n",
       "    <tr style=\"text-align: right;\">\n",
       "      <th></th>\n",
       "      <th>suite_id</th>\n",
       "      <th>sample_id</th>\n",
       "      <th>code</th>\n",
       "      <th>value</th>\n",
       "      <th>character</th>\n",
       "    </tr>\n",
       "  </thead>\n",
       "  <tbody>\n",
       "    <tr>\n",
       "      <th>0</th>\n",
       "      <td>1</td>\n",
       "      <td>1</td>\n",
       "      <td>10</td>\n",
       "      <td>9</td>\n",
       "      <td>九</td>\n",
       "    </tr>\n",
       "    <tr>\n",
       "      <th>1</th>\n",
       "      <td>1</td>\n",
       "      <td>10</td>\n",
       "      <td>10</td>\n",
       "      <td>9</td>\n",
       "      <td>九</td>\n",
       "    </tr>\n",
       "    <tr>\n",
       "      <th>2</th>\n",
       "      <td>1</td>\n",
       "      <td>2</td>\n",
       "      <td>10</td>\n",
       "      <td>9</td>\n",
       "      <td>九</td>\n",
       "    </tr>\n",
       "    <tr>\n",
       "      <th>3</th>\n",
       "      <td>1</td>\n",
       "      <td>3</td>\n",
       "      <td>10</td>\n",
       "      <td>9</td>\n",
       "      <td>九</td>\n",
       "    </tr>\n",
       "    <tr>\n",
       "      <th>4</th>\n",
       "      <td>1</td>\n",
       "      <td>4</td>\n",
       "      <td>10</td>\n",
       "      <td>9</td>\n",
       "      <td>九</td>\n",
       "    </tr>\n",
       "  </tbody>\n",
       "</table>\n",
       "</div>"
      ],
      "text/plain": [
       "   suite_id  sample_id  code  value character\n",
       "0         1          1    10      9         九\n",
       "1         1         10    10      9         九\n",
       "2         1          2    10      9         九\n",
       "3         1          3    10      9         九\n",
       "4         1          4    10      9         九"
      ]
     },
     "execution_count": 2,
     "metadata": {},
     "output_type": "execute_result"
    }
   ],
   "source": [
    "#Read csv files with labels into a dataframe\n",
    "datalabels = pd.read_csv('chinese_mnist.csv', low_memory = False)\n",
    "datalabels.head()"
   ]
  },
  {
   "cell_type": "code",
   "execution_count": 5,
   "id": "7361d1df",
   "metadata": {},
   "outputs": [
    {
     "name": "stdout",
     "output_type": "stream",
     "text": [
      "dataframe rows: 15000\n",
      "image files : 15000\n"
     ]
    }
   ],
   "source": [
    "print(\"dataframe rows:\", datalabels.shape[0]) \n",
    "print(\"image files :\", len(os.listdir(\"data/\")))"
   ]
  },
  {
   "cell_type": "code",
   "execution_count": 42,
   "id": "e11ae380",
   "metadata": {},
   "outputs": [],
   "source": [
    "# Match labels to image file names, code taken from Kaggle User Richard Kuo's classifier, found at https://www.kaggle.com/rkuo2000/chinese-mnist\n",
    "def file_path_col(data):    \n",
    "    file_path = f\"input_{data[0]}_{data[1]}_{data[2]}.jpg\" #input_1_1_10.jpg    \n",
    "    return file_path"
   ]
  },
  {
   "cell_type": "code",
   "execution_count": 9,
   "id": "a06f5f28",
   "metadata": {},
   "outputs": [
    {
     "data": {
      "text/html": [
       "<div>\n",
       "<style scoped>\n",
       "    .dataframe tbody tr th:only-of-type {\n",
       "        vertical-align: middle;\n",
       "    }\n",
       "\n",
       "    .dataframe tbody tr th {\n",
       "        vertical-align: top;\n",
       "    }\n",
       "\n",
       "    .dataframe thead th {\n",
       "        text-align: right;\n",
       "    }\n",
       "</style>\n",
       "<table border=\"1\" class=\"dataframe\">\n",
       "  <thead>\n",
       "    <tr style=\"text-align: right;\">\n",
       "      <th></th>\n",
       "      <th>suite_id</th>\n",
       "      <th>sample_id</th>\n",
       "      <th>code</th>\n",
       "      <th>value</th>\n",
       "      <th>character</th>\n",
       "      <th>file_path</th>\n",
       "    </tr>\n",
       "  </thead>\n",
       "  <tbody>\n",
       "    <tr>\n",
       "      <th>0</th>\n",
       "      <td>1</td>\n",
       "      <td>1</td>\n",
       "      <td>10</td>\n",
       "      <td>9</td>\n",
       "      <td>九</td>\n",
       "      <td>input_1_1_10.jpg</td>\n",
       "    </tr>\n",
       "    <tr>\n",
       "      <th>1</th>\n",
       "      <td>1</td>\n",
       "      <td>10</td>\n",
       "      <td>10</td>\n",
       "      <td>9</td>\n",
       "      <td>九</td>\n",
       "      <td>input_1_10_10.jpg</td>\n",
       "    </tr>\n",
       "    <tr>\n",
       "      <th>2</th>\n",
       "      <td>1</td>\n",
       "      <td>2</td>\n",
       "      <td>10</td>\n",
       "      <td>9</td>\n",
       "      <td>九</td>\n",
       "      <td>input_1_2_10.jpg</td>\n",
       "    </tr>\n",
       "    <tr>\n",
       "      <th>3</th>\n",
       "      <td>1</td>\n",
       "      <td>3</td>\n",
       "      <td>10</td>\n",
       "      <td>9</td>\n",
       "      <td>九</td>\n",
       "      <td>input_1_3_10.jpg</td>\n",
       "    </tr>\n",
       "    <tr>\n",
       "      <th>4</th>\n",
       "      <td>1</td>\n",
       "      <td>4</td>\n",
       "      <td>10</td>\n",
       "      <td>9</td>\n",
       "      <td>九</td>\n",
       "      <td>input_1_4_10.jpg</td>\n",
       "    </tr>\n",
       "  </tbody>\n",
       "</table>\n",
       "</div>"
      ],
      "text/plain": [
       "   suite_id  sample_id  code  value character          file_path\n",
       "0         1          1    10      9         九   input_1_1_10.jpg\n",
       "1         1         10    10      9         九  input_1_10_10.jpg\n",
       "2         1          2    10      9         九   input_1_2_10.jpg\n",
       "3         1          3    10      9         九   input_1_3_10.jpg\n",
       "4         1          4    10      9         九   input_1_4_10.jpg"
      ]
     },
     "execution_count": 9,
     "metadata": {},
     "output_type": "execute_result"
    }
   ],
   "source": [
    "datalabels[\"file_path\"] = datalabels.apply(file_path_col, axis = 1)\n",
    "datalabels.head()"
   ]
  },
  {
   "cell_type": "code",
   "execution_count": 12,
   "id": "24dc0618",
   "metadata": {},
   "outputs": [
    {
     "name": "stdout",
     "output_type": "stream",
     "text": [
      "12000\n",
      "3000\n"
     ]
    }
   ],
   "source": [
    "#use sklearn to split data into training and testing sets\n",
    "from sklearn.model_selection import train_test_split\n",
    "train, test = train_test_split(datalabels, test_size=0.2, random_state=0, stratify=datalabels[\"code\"].values, shuffle = True)\n",
    "\n",
    "print(train.shape[0])\n",
    "print(test.shape[0])"
   ]
  },
  {
   "cell_type": "code",
   "execution_count": 40,
   "id": "83726a9a",
   "metadata": {},
   "outputs": [],
   "source": [
    "#split data further into testing and val sets\n",
    "val_data, test_data   = train_test_split(datalabels, test_size = 0.5, random_state = 42, shuffle = True, stratify = datalabels.code.values)"
   ]
  },
  {
   "cell_type": "code",
   "execution_count": 17,
   "id": "033b2d69",
   "metadata": {},
   "outputs": [
    {
     "name": "stdout",
     "output_type": "stream",
     "text": [
      "Train set rows: 12000\n",
      "Test set rows: 3000\n",
      "Val set rows: 7500\n"
     ]
    }
   ],
   "source": [
    "print(f\"Train set rows: {train.shape[0]}\")\n",
    "print(f\"Test set rows: {test.shape[0]}\")\n",
    "print(f\"Val set rows: {val_data.shape[0]}\")"
   ]
  },
  {
   "cell_type": "code",
   "execution_count": 18,
   "id": "5b20f81f",
   "metadata": {},
   "outputs": [],
   "source": [
    "import skimage.io\n",
    "import skimage.transform"
   ]
  },
  {
   "cell_type": "code",
   "execution_count": 43,
   "id": "faef84b6",
   "metadata": {},
   "outputs": [],
   "source": [
    "\n",
    "# One hot encoder for all 15 labels, taken from Richard Kuo's submission, found at https://www.kaggle.com/rkuo2000/chinese-mnist\n",
    "def character_encoder(data, var = \"character\"):\n",
    "    x = np.stack(data[\"file_path\"].apply(read_image))\n",
    "    y = pd.get_dummies(data[var], drop_first = False)\n",
    "    return x, y"
   ]
  },
  {
   "cell_type": "code",
   "execution_count": 21,
   "id": "324e08a0",
   "metadata": {},
   "outputs": [],
   "source": [
    "file_paths = list(datalabels.file_path)\n",
    "#Reading and resizing images in the dataset, code adapted from NIKOLA BOZHINOV's submission to kaggle for the dataset, found at https://www.kaggle.com/vislupus/cnn-model-chinese-mnist-98-9-accuracy\n",
    "def read_image(file_paths):\n",
    "    image = skimage.io.imread(\"data/\" + file_paths)\n",
    "    #resize image\n",
    "    image = skimage.transform.resize(image, (64, 64, 1), mode=\"reflect\") \n",
    "    return image[:, :, :]"
   ]
  },
  {
   "cell_type": "code",
   "execution_count": 30,
   "id": "5cacbaba",
   "metadata": {},
   "outputs": [
    {
     "name": "stdout",
     "output_type": "stream",
     "text": [
      "(12000, 64, 64, 1) , (12000, 15)\n",
      "(7500, 64, 64, 1) , (7500, 15)\n",
      "(3000, 64, 64, 1) , (3000, 15)\n"
     ]
    }
   ],
   "source": [
    "#actually call the functions to get the arrays we'll be working from\n",
    "X_train, y_train = character_encoder(train)\n",
    "X_val, y_val = character_encoder(val_data)\n",
    "X_test, y_test = character_encoder(test)\n",
    "\n",
    "#normalize inputs\n",
    "X_train = X_train / 255\n",
    "X_test = X_test / 255\n",
    "\n",
    "print(X_train.shape, \",\", y_train.shape)\n",
    "print(X_val.shape, \",\", y_val.shape)\n",
    "print(X_test.shape, \",\", y_test.shape)"
   ]
  },
  {
   "cell_type": "code",
   "execution_count": 36,
   "id": "7e1d9b3a",
   "metadata": {},
   "outputs": [],
   "source": [
    "def create_model():\n",
    "    \n",
    "    model = Sequential()\n",
    "    num_classes = 15\n",
    "    input_shape = (64, 64, 1)\n",
    "    model.add(Convolution2D(32,kernel_size=(3,3),padding='same',activation='relu', input_shape=input_shape))\n",
    "    model.add(MaxPooling2D(pool_size=(2,2)))\n",
    "    model.add(Convolution2D(64, kernel_size = (3, 3), activation = 'relu', padding = 'same'))\n",
    "    model.add(MaxPooling2D(pool_size = (2, 2)))\n",
    "    model.add(Convolution2D(128, kernel_size = (3, 3), activation = 'relu', padding = 'same'))\n",
    "    model.add(MaxPooling2D(pool_size = (2, 2)))\n",
    "    model.add(Flatten())\n",
    "    model.add(Dense(128, activation='relu'))\n",
    "    model.add(Dropout(0.2))\n",
    "    model.add(Dense(256, activation = 'relu'))\n",
    "    model.add(Dense(num_classes, activation = 'softmax'))\n",
    "    model.summary()\n",
    "    model.compile(loss='categorical_crossentropy',optimizer='adam', metrics=['accuracy'])\n",
    "\n",
    "    return model"
   ]
  },
  {
   "cell_type": "code",
   "execution_count": 24,
   "id": "798fbef7",
   "metadata": {},
   "outputs": [],
   "source": [
    "model = create_model"
   ]
  },
  {
   "cell_type": "code",
   "execution_count": 28,
   "id": "384bf314",
   "metadata": {},
   "outputs": [
    {
     "name": "stdout",
     "output_type": "stream",
     "text": [
      "Model: \"sequential_3\"\n",
      "_________________________________________________________________\n",
      " Layer (type)                Output Shape              Param #   \n",
      "=================================================================\n",
      " conv2d_9 (Conv2D)           (None, 64, 64, 32)        320       \n",
      "                                                                 \n",
      " max_pooling2d_9 (MaxPooling  (None, 32, 32, 32)       0         \n",
      " 2D)                                                             \n",
      "                                                                 \n",
      " conv2d_10 (Conv2D)          (None, 32, 32, 64)        18496     \n",
      "                                                                 \n",
      " max_pooling2d_10 (MaxPoolin  (None, 16, 16, 64)       0         \n",
      " g2D)                                                            \n",
      "                                                                 \n",
      " conv2d_11 (Conv2D)          (None, 16, 16, 128)       73856     \n",
      "                                                                 \n",
      " max_pooling2d_11 (MaxPoolin  (None, 8, 8, 128)        0         \n",
      " g2D)                                                            \n",
      "                                                                 \n",
      " flatten_3 (Flatten)         (None, 8192)              0         \n",
      "                                                                 \n",
      " dense_9 (Dense)             (None, 128)               1048704   \n",
      "                                                                 \n",
      " dropout_3 (Dropout)         (None, 128)               0         \n",
      "                                                                 \n",
      " dense_10 (Dense)            (None, 256)               33024     \n",
      "                                                                 \n",
      " dense_11 (Dense)            (None, 15)                3855      \n",
      "                                                                 \n",
      "=================================================================\n",
      "Total params: 1,178,255\n",
      "Trainable params: 1,178,255\n",
      "Non-trainable params: 0\n",
      "_________________________________________________________________\n",
      "Epoch 1/2\n",
      "94/94 [==============================] - 34s 345ms/step - loss: 1.4386 - accuracy: 0.5286 - val_loss: 0.4537 - val_accuracy: 0.8507\n",
      "Epoch 2/2\n",
      "94/94 [==============================] - 32s 336ms/step - loss: 0.4115 - accuracy: 0.8567 - val_loss: 0.1954 - val_accuracy: 0.9408\n"
     ]
    },
    {
     "data": {
      "text/plain": [
       "<keras.callbacks.History at 0x18100175130>"
      ]
     },
     "execution_count": 28,
     "metadata": {},
     "output_type": "execute_result"
    }
   ],
   "source": [
    "#fit model, parameters not optimized\n",
    "model().fit(X_train, y_train, batch_size=128, epochs=20, validation_data=(X_val, y_val))"
   ]
  },
  {
   "cell_type": "code",
   "execution_count": 29,
   "id": "898d2e82",
   "metadata": {},
   "outputs": [
    {
     "name": "stdout",
     "output_type": "stream",
     "text": [
      "Model: \"sequential_4\"\n",
      "_________________________________________________________________\n",
      " Layer (type)                Output Shape              Param #   \n",
      "=================================================================\n",
      " conv2d_12 (Conv2D)          (None, 64, 64, 32)        320       \n",
      "                                                                 \n",
      " max_pooling2d_12 (MaxPoolin  (None, 32, 32, 32)       0         \n",
      " g2D)                                                            \n",
      "                                                                 \n",
      " conv2d_13 (Conv2D)          (None, 32, 32, 64)        18496     \n",
      "                                                                 \n",
      " max_pooling2d_13 (MaxPoolin  (None, 16, 16, 64)       0         \n",
      " g2D)                                                            \n",
      "                                                                 \n",
      " conv2d_14 (Conv2D)          (None, 16, 16, 128)       73856     \n",
      "                                                                 \n",
      " max_pooling2d_14 (MaxPoolin  (None, 8, 8, 128)        0         \n",
      " g2D)                                                            \n",
      "                                                                 \n",
      " flatten_4 (Flatten)         (None, 8192)              0         \n",
      "                                                                 \n",
      " dense_12 (Dense)            (None, 128)               1048704   \n",
      "                                                                 \n",
      " dropout_4 (Dropout)         (None, 128)               0         \n",
      "                                                                 \n",
      " dense_13 (Dense)            (None, 256)               33024     \n",
      "                                                                 \n",
      " dense_14 (Dense)            (None, 15)                3855      \n",
      "                                                                 \n",
      "=================================================================\n",
      "Total params: 1,178,255\n",
      "Trainable params: 1,178,255\n",
      "Non-trainable params: 0\n",
      "_________________________________________________________________\n",
      "94/94 [==============================] - 3s 28ms/step - loss: 2.7083 - accuracy: 0.0623\n",
      "Test Loss is 2.708333969116211\n",
      "Test Accuracy is 0.06233333423733711\n"
     ]
    }
   ],
   "source": [
    "#test model to gauge accuracy\n",
    "ModelLoss, ModelAccuracy = model().evaluate(X_test, y_test)\n",
    "\n",
    "print(f'Test Loss is {ModelLoss}')\n",
    "print(f'Test Accuracy is {ModelAccuracy}')"
   ]
  },
  {
   "cell_type": "code",
   "execution_count": 27,
   "id": "3245a7a5",
   "metadata": {},
   "outputs": [
    {
     "name": "stdout",
     "output_type": "stream",
     "text": [
      "Model: \"sequential_2\"\n",
      "_________________________________________________________________\n",
      " Layer (type)                Output Shape              Param #   \n",
      "=================================================================\n",
      " conv2d_6 (Conv2D)           (None, 64, 64, 32)        320       \n",
      "                                                                 \n",
      " max_pooling2d_6 (MaxPooling  (None, 32, 32, 32)       0         \n",
      " 2D)                                                             \n",
      "                                                                 \n",
      " conv2d_7 (Conv2D)           (None, 32, 32, 64)        18496     \n",
      "                                                                 \n",
      " max_pooling2d_7 (MaxPooling  (None, 16, 16, 64)       0         \n",
      " 2D)                                                             \n",
      "                                                                 \n",
      " conv2d_8 (Conv2D)           (None, 16, 16, 128)       73856     \n",
      "                                                                 \n",
      " max_pooling2d_8 (MaxPooling  (None, 8, 8, 128)        0         \n",
      " 2D)                                                             \n",
      "                                                                 \n",
      " flatten_2 (Flatten)         (None, 8192)              0         \n",
      "                                                                 \n",
      " dense_6 (Dense)             (None, 128)               1048704   \n",
      "                                                                 \n",
      " dropout_2 (Dropout)         (None, 128)               0         \n",
      "                                                                 \n",
      " dense_7 (Dense)             (None, 256)               33024     \n",
      "                                                                 \n",
      " dense_8 (Dense)             (None, 15)                3855      \n",
      "                                                                 \n",
      "=================================================================\n",
      "Total params: 1,178,255\n",
      "Trainable params: 1,178,255\n",
      "Non-trainable params: 0\n",
      "_________________________________________________________________\n",
      "The model has successfully saved\n"
     ]
    }
   ],
   "source": [
    "#save the model to an h5 file\n",
    "model().save(\"mnistmodelmk2.h5\")\n",
    "print(\"The model has successfully saved\")"
   ]
  }
 ],
 "metadata": {
  "kernelspec": {
   "display_name": "Python 3 (ipykernel)",
   "language": "python",
   "name": "python3"
  },
  "language_info": {
   "codemirror_mode": {
    "name": "ipython",
    "version": 3
   },
   "file_extension": ".py",
   "mimetype": "text/x-python",
   "name": "python",
   "nbconvert_exporter": "python",
   "pygments_lexer": "ipython3",
   "version": "3.9.7"
  }
 },
 "nbformat": 4,
 "nbformat_minor": 5
}
